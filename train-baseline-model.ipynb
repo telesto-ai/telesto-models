{
 "cells": [
  {
   "cell_type": "markdown",
   "metadata": {},
   "source": [
    "# Setup"
   ]
  },
  {
   "cell_type": "code",
   "execution_count": 3,
   "metadata": {},
   "outputs": [
    {
     "name": "stdout",
     "output_type": "stream",
     "text": [
      "The autoreload extension is already loaded. To reload it, use:\n",
      "  %reload_ext autoreload\n"
     ]
    }
   ],
   "source": [
    "import pathlib\n",
    "import numpy as np\n",
    "import pandas as pd\n",
    "import sklearn\n",
    "import matplotlib.pyplot as plt\n",
    "from PIL import Image\n",
    "\n",
    "%load_ext autoreload\n",
    "%autoreload 2\n",
    "%matplotlib inline"
   ]
  },
  {
   "cell_type": "code",
   "execution_count": 57,
   "metadata": {},
   "outputs": [],
   "source": [
    "data_path = pathlib.Path(\"/opt/data/covid19\")"
   ]
  },
  {
   "cell_type": "markdown",
   "metadata": {},
   "source": [
    "# Train valid split"
   ]
  },
  {
   "cell_type": "code",
   "execution_count": 5,
   "metadata": {},
   "outputs": [],
   "source": [
    "import sklearn.model_selection\n",
    "import shutil"
   ]
  },
  {
   "cell_type": "code",
   "execution_count": 6,
   "metadata": {},
   "outputs": [
    {
     "data": {
      "text/plain": [
       "((432, 5), (24,))"
      ]
     },
     "execution_count": 6,
     "metadata": {},
     "output_type": "execute_result"
    }
   ],
   "source": [
    "dataset_path = data_path / \"train_raw\"\n",
    "labels_path = dataset_path / \"labels.tsv\"\n",
    "labels = pd.read_csv(labels_path, sep=\"\\t\")\n",
    "labels.shape, labels.group.unique().shape"
   ]
  },
  {
   "cell_type": "code",
   "execution_count": 8,
   "metadata": {},
   "outputs": [],
   "source": [
    "groups = labels[[\"label\", \"group\"]].drop_duplicates().sort_values(by=[\"label\", \"group\"])"
   ]
  },
  {
   "cell_type": "code",
   "execution_count": 9,
   "metadata": {},
   "outputs": [
    {
     "data": {
      "text/plain": [
       "((20, 2), (4, 2))"
      ]
     },
     "execution_count": 9,
     "metadata": {},
     "output_type": "execute_result"
    }
   ],
   "source": [
    "sklearn.model_selection.train_test_split(groups)\n",
    "train_groups, valid_groups = sklearn.model_selection.train_test_split(\n",
    "    groups, test_size=1/6, random_state=13, stratify=groups.label\n",
    ")\n",
    "train_groups.shape, valid_groups.shape"
   ]
  },
  {
   "cell_type": "code",
   "execution_count": 10,
   "metadata": {},
   "outputs": [],
   "source": [
    "def copy_ds(ds, src, dst):\n",
    "    (dst / \"images\").mkdir(parents=True, exist_ok=True)\n",
    "    ds.to_csv(dst / \"labels.tsv\", index=False, sep=\"\\t\")\n",
    "    for path in ds.path:\n",
    "        shutil.copy(src / path, dst / path)"
   ]
  },
  {
   "cell_type": "code",
   "execution_count": 11,
   "metadata": {},
   "outputs": [
    {
     "data": {
      "text/plain": [
       "((360, 5), (72, 5))"
      ]
     },
     "execution_count": 11,
     "metadata": {},
     "output_type": "execute_result"
    }
   ],
   "source": [
    "(labels[labels.group.isin(train_groups.group.values)].shape,\n",
    " labels[labels.group.isin(valid_groups.group.values)].shape)"
   ]
  },
  {
   "cell_type": "code",
   "execution_count": 12,
   "metadata": {},
   "outputs": [],
   "source": [
    "copy_ds(labels[labels.group.isin(train_groups.group.values)], dataset_path, data_path / \"train\")\n",
    "copy_ds(labels[labels.group.isin(valid_groups.group.values)], dataset_path, data_path / \"valid\")"
   ]
  },
  {
   "cell_type": "markdown",
   "metadata": {},
   "source": [
    "# Train DL model"
   ]
  },
  {
   "cell_type": "code",
   "execution_count": 13,
   "metadata": {},
   "outputs": [],
   "source": [
    "import time\n",
    "import os\n",
    "import copy\n",
    "import matplotlib.pyplot as plt\n",
    "import torch\n",
    "import torch.nn as nn\n",
    "import torch.optim as optim\n",
    "from torch.optim import lr_scheduler\n",
    "import numpy as np\n",
    "import torchvision\n",
    "from torchvision import datasets, models, transforms"
   ]
  },
  {
   "cell_type": "code",
   "execution_count": 24,
   "metadata": {},
   "outputs": [],
   "source": [
    "data_transforms = {\n",
    "    'train': transforms.Compose([\n",
    "        transforms.RandomResizedCrop(224),\n",
    "        transforms.RandomHorizontalFlip(),\n",
    "        transforms.ToTensor(),\n",
    "        transforms.Normalize([0.485, 0.456, 0.406], [0.229, 0.224, 0.225])\n",
    "    ]),\n",
    "    'valid': transforms.Compose([\n",
    "        transforms.Resize(224),\n",
    "        transforms.ToTensor(),\n",
    "        transforms.Normalize([0.485, 0.456, 0.406], [0.229, 0.224, 0.225])\n",
    "    ]),\n",
    "}"
   ]
  },
  {
   "cell_type": "code",
   "execution_count": 25,
   "metadata": {},
   "outputs": [],
   "source": [
    "class CovidDataset(torch.utils.data.Dataset):\n",
    "    def __init__(self, data_path, transform):\n",
    "        self.data_path = data_path\n",
    "        self.transform = transform\n",
    "        self.labels = pd.read_csv(self.data_path / \"labels.tsv\", sep=\"\\t\").fillna(-1)\n",
    "        self.classes = [\"healthy\", \"infected\"]\n",
    "    \n",
    "    def __len__(self):\n",
    "        return len(self.labels)\n",
    "    \n",
    "    def __getitem__(self, idx):\n",
    "        row = self.labels.iloc[idx]\n",
    "        image_path = self.data_path / row.path\n",
    "        image = Image.open(image_path.open(\"rb\"))\n",
    "        image = self.transform(image)\n",
    "        return image, row.label_i"
   ]
  },
  {
   "cell_type": "code",
   "execution_count": 26,
   "metadata": {},
   "outputs": [],
   "source": [
    "ds_types = ['train', 'valid']\n",
    "image_datasets = {\n",
    "    x: CovidDataset(data_path / x, data_transforms[x]) for x in ds_types\n",
    "}\n",
    "\n",
    "dataloaders = {\n",
    "    x: torch.utils.data.DataLoader(image_datasets[x], batch_size=4, shuffle=x == \"train\", num_workers=4)\n",
    "    for x in ds_types\n",
    "}\n",
    "dataset_sizes = {x: len(image_datasets[x]) for x in ds_types}\n",
    "class_names = image_datasets['train'].classes\n",
    "\n",
    "device = torch.device(\"cuda:0\" if torch.cuda.is_available() else \"cpu\")"
   ]
  },
  {
   "cell_type": "code",
   "execution_count": 27,
   "metadata": {
    "code_folding": [
     0
    ]
   },
   "outputs": [
    {
     "data": {
      "image/png": "[encoded data removed]",
      "text/plain": [
       "<Figure size 432x288 with 1 Axes>"
      ]
     },
     "metadata": {
      "needs_background": "light"
     },
     "output_type": "display_data"
    }
   ],
   "source": [
    "def imshow(inp, title=None):\n",
    "    \"\"\"Imshow for Tensor.\"\"\"\n",
    "    inp = inp.numpy().transpose((1, 2, 0))\n",
    "    mean = np.array([0.485, 0.456, 0.406])\n",
    "    std = np.array([0.229, 0.224, 0.225])\n",
    "    inp = std * inp + mean\n",
    "    inp = np.clip(inp, 0, 1)\n",
    "    plt.imshow(inp)\n",
    "    if title is not None:\n",
    "        plt.title(title)\n",
    "    plt.pause(0.001)  # pause a bit so that plots are updated\n",
    "\n",
    "\n",
    "# Get a batch of training data\n",
    "inputs, classes = next(iter(dataloaders[\"train\"]))\n",
    "\n",
    "# Make a grid from batch\n",
    "out = torchvision.utils.make_grid(inputs)\n",
    "\n",
    "imshow(out, title=[class_names[x] for x in classes])"
   ]
  },
  {
   "cell_type": "code",
   "execution_count": 28,
   "metadata": {
    "code_folding": [
     0
    ]
   },
   "outputs": [],
   "source": [
    "def train_model(model, criterion, optimizer, scheduler, num_epochs=25, phases=('train', 'valid')):\n",
    "    since = time.time()\n",
    "\n",
    "    best_model_wts = copy.deepcopy(model.state_dict())\n",
    "    best_acc = 0.0\n",
    "\n",
    "    for epoch in range(num_epochs):\n",
    "        print('Epoch {}/{}'.format(epoch, num_epochs - 1))\n",
    "        print('-' * 10)\n",
    "\n",
    "        # Each epoch has a training and validation phase\n",
    "        for phase in phases:\n",
    "            if phase == 'train':\n",
    "                model.train()  # Set model to training mode\n",
    "            else:\n",
    "                model.eval()   # Set model to evaluate mode\n",
    "\n",
    "            running_loss = 0.0\n",
    "            running_corrects = 0\n",
    "\n",
    "            # Iterate over data.\n",
    "            for inputs, labels in dataloaders[phase]:\n",
    "                inputs = inputs.to(device)\n",
    "                labels = labels.to(device)\n",
    "\n",
    "                # zero the parameter gradients\n",
    "                optimizer.zero_grad()\n",
    "\n",
    "                # forward\n",
    "                # track history if only in train\n",
    "                with torch.set_grad_enabled(phase == 'train'):\n",
    "                    outputs = model(inputs)\n",
    "                    _, preds = torch.max(outputs, 1)\n",
    "                    loss = criterion(outputs, labels)\n",
    "\n",
    "                    # backward + optimize only if in training phase\n",
    "                    if phase == 'train':\n",
    "                        loss.backward()\n",
    "                        optimizer.step()\n",
    "\n",
    "                # statistics\n",
    "                running_loss += loss.item() * inputs.size(0)\n",
    "                running_corrects += torch.sum(preds == labels.data)\n",
    "            if phase == 'train':\n",
    "                scheduler.step()\n",
    "\n",
    "            epoch_loss = running_loss / dataset_sizes[phase]\n",
    "            epoch_acc = running_corrects.double() / dataset_sizes[phase]\n",
    "\n",
    "            print('{} Loss: {:.4f} Acc: {:.4f}'.format(\n",
    "                phase, epoch_loss, epoch_acc))\n",
    "\n",
    "            # deep copy the model\n",
    "            if phase == phases[-1] and epoch_acc > best_acc:\n",
    "                best_acc = epoch_acc\n",
    "                best_model_wts = copy.deepcopy(model.state_dict())\n",
    "\n",
    "        print()\n",
    "\n",
    "    time_elapsed = time.time() - since\n",
    "    print('Training complete in {:.0f}m {:.0f}s'.format(\n",
    "        time_elapsed // 60, time_elapsed % 60))\n",
    "    print('Best val Acc: {:4f}'.format(best_acc))\n",
    "\n",
    "    # load best model weights\n",
    "    model.load_state_dict(best_model_wts)"
   ]
  },
  {
   "cell_type": "code",
   "execution_count": 29,
   "metadata": {},
   "outputs": [],
   "source": [
    "model_ft = models.resnet18(pretrained=True)\n",
    "# model_ft = models.resnet34(pretrained=True)\n",
    "num_ftrs = model_ft.fc.in_features\n",
    "# Here the size of each output sample is set to 2.\n",
    "# Alternatively, it can be generalized to nn.Linear(num_ftrs, len(class_names)).\n",
    "model_ft.fc = nn.Linear(num_ftrs, 2)\n",
    "model_ft = model_ft.to(device)\n",
    "\n",
    "criterion = nn.CrossEntropyLoss()\n",
    "\n",
    "# Observe that all parameters are being optimized\n",
    "optimizer_ft = optim.SGD(model_ft.parameters(), lr=0.001, momentum=0.9)\n",
    "\n",
    "# Decay LR by a factor of 0.1 every 7 epochs\n",
    "exp_lr_scheduler = lr_scheduler.StepLR(optimizer_ft, step_size=7, gamma=0.1)"
   ]
  },
  {
   "cell_type": "code",
   "execution_count": 30,
   "metadata": {
    "scrolled": true
   },
   "outputs": [
    {
     "name": "stdout",
     "output_type": "stream",
     "text": [
      "Epoch 0/9\n",
      "----------\n",
      "train Loss: 0.7308 Acc: 0.7083\n",
      "valid Loss: 0.2600 Acc: 0.8750\n",
      "\n",
      "Epoch 1/9\n",
      "----------\n",
      "train Loss: 0.5158 Acc: 0.8139\n",
      "valid Loss: 0.3908 Acc: 0.8056\n",
      "\n",
      "Epoch 2/9\n",
      "----------\n",
      "train Loss: 0.5740 Acc: 0.8056\n",
      "valid Loss: 0.3553 Acc: 0.8333\n",
      "\n",
      "Epoch 3/9\n",
      "----------\n",
      "train Loss: 0.3897 Acc: 0.8500\n",
      "valid Loss: 0.0968 Acc: 0.9444\n",
      "\n",
      "Epoch 4/9\n",
      "----------\n",
      "train Loss: 0.6283 Acc: 0.7667\n",
      "valid Loss: 0.8261 Acc: 0.6667\n",
      "\n",
      "Epoch 5/9\n",
      "----------\n",
      "train Loss: 0.5828 Acc: 0.8028\n",
      "valid Loss: 0.0663 Acc: 0.9583\n",
      "\n",
      "Epoch 6/9\n",
      "----------\n",
      "train Loss: 0.4244 Acc: 0.8361\n",
      "valid Loss: 0.5188 Acc: 0.7361\n",
      "\n",
      "Epoch 7/9\n",
      "----------\n",
      "train Loss: 0.2900 Acc: 0.8806\n",
      "valid Loss: 0.2751 Acc: 0.8889\n",
      "\n",
      "Epoch 8/9\n",
      "----------\n",
      "train Loss: 0.2646 Acc: 0.8722\n",
      "valid Loss: 0.2999 Acc: 0.8472\n",
      "\n",
      "Epoch 9/9\n",
      "----------\n",
      "train Loss: 0.2895 Acc: 0.9056\n",
      "valid Loss: 0.2594 Acc: 0.9306\n",
      "\n",
      "Training complete in 4m 9s\n",
      "Best val Acc: 0.958333\n"
     ]
    }
   ],
   "source": [
    "train_model(\n",
    "    model_ft, criterion, optimizer_ft, exp_lr_scheduler, num_epochs=10, phases=ds_types\n",
    ");"
   ]
  },
  {
   "cell_type": "markdown",
   "metadata": {},
   "source": [
    "# Predict and prepare submission and model"
   ]
  },
  {
   "cell_type": "code",
   "execution_count": 37,
   "metadata": {},
   "outputs": [],
   "source": [
    "from collections import defaultdict"
   ]
  },
  {
   "cell_type": "code",
   "execution_count": 46,
   "metadata": {},
   "outputs": [],
   "source": [
    "def predict(model, dataloader):\n",
    "    results = defaultdict(list)\n",
    "    with torch.set_grad_enabled(False):\n",
    "        model.eval()\n",
    "        for inputs, labels in dataloader:\n",
    "            inputs = inputs.to(device)\n",
    "            labels = labels.to(device)\n",
    "\n",
    "            outputs = model(inputs)\n",
    "            probs = nn.functional.softmax(outputs, dim=1)\n",
    "            _, preds = torch.max(outputs, 1)\n",
    "            \n",
    "            results[\"labels\"].extend(labels.tolist())\n",
    "            results[\"probs\"].extend(probs.tolist())\n",
    "            results[\"preds\"].extend(preds.tolist())\n",
    "    \n",
    "    if results[\"labels\"][0] >= 0:\n",
    "        labels = np.array([class_names[i] for i in results[\"labels\"]])\n",
    "    else:\n",
    "        labels = []\n",
    "    probs = np.array(results[\"probs\"])[:,1]\n",
    "    preds = np.array([class_names[i] for i in results[\"preds\"]])\n",
    "    return labels, probs, preds"
   ]
  },
  {
   "cell_type": "code",
   "execution_count": 40,
   "metadata": {
    "code_folding": []
   },
   "outputs": [
    {
     "data": {
      "text/html": [
       "<div>\n",
       "<style scoped>\n",
       "    .dataframe tbody tr th:only-of-type {\n",
       "        vertical-align: middle;\n",
       "    }\n",
       "\n",
       "    .dataframe tbody tr th {\n",
       "        vertical-align: top;\n",
       "    }\n",
       "\n",
       "    .dataframe thead th {\n",
       "        text-align: right;\n",
       "    }\n",
       "</style>\n",
       "<table border=\"1\" class=\"dataframe\">\n",
       "  <thead>\n",
       "    <tr style=\"text-align: right;\">\n",
       "      <th></th>\n",
       "      <th>id</th>\n",
       "      <th>label</th>\n",
       "      <th>group</th>\n",
       "      <th>prob</th>\n",
       "      <th>pred</th>\n",
       "    </tr>\n",
       "  </thead>\n",
       "  <tbody>\n",
       "    <tr>\n",
       "      <th>0</th>\n",
       "      <td>11c8e7e766868356</td>\n",
       "      <td>healthy</td>\n",
       "      <td>11522fb53da0f6ef</td>\n",
       "      <td>0.000641</td>\n",
       "      <td>healthy</td>\n",
       "    </tr>\n",
       "    <tr>\n",
       "      <th>1</th>\n",
       "      <td>6aaac3b6b9c2a620</td>\n",
       "      <td>healthy</td>\n",
       "      <td>11522fb53da0f6ef</td>\n",
       "      <td>0.026469</td>\n",
       "      <td>healthy</td>\n",
       "    </tr>\n",
       "    <tr>\n",
       "      <th>2</th>\n",
       "      <td>9229dfaf21443f5d</td>\n",
       "      <td>healthy</td>\n",
       "      <td>11522fb53da0f6ef</td>\n",
       "      <td>0.002288</td>\n",
       "      <td>healthy</td>\n",
       "    </tr>\n",
       "    <tr>\n",
       "      <th>3</th>\n",
       "      <td>9b4404e5e4d38535</td>\n",
       "      <td>healthy</td>\n",
       "      <td>11522fb53da0f6ef</td>\n",
       "      <td>0.003044</td>\n",
       "      <td>healthy</td>\n",
       "    </tr>\n",
       "    <tr>\n",
       "      <th>4</th>\n",
       "      <td>f19f9ec0438a79d0</td>\n",
       "      <td>healthy</td>\n",
       "      <td>11522fb53da0f6ef</td>\n",
       "      <td>0.005792</td>\n",
       "      <td>healthy</td>\n",
       "    </tr>\n",
       "  </tbody>\n",
       "</table>\n",
       "</div>"
      ],
      "text/plain": [
       "                 id    label             group      prob     pred\n",
       "0  11c8e7e766868356  healthy  11522fb53da0f6ef  0.000641  healthy\n",
       "1  6aaac3b6b9c2a620  healthy  11522fb53da0f6ef  0.026469  healthy\n",
       "2  9229dfaf21443f5d  healthy  11522fb53da0f6ef  0.002288  healthy\n",
       "3  9b4404e5e4d38535  healthy  11522fb53da0f6ef  0.003044  healthy\n",
       "4  f19f9ec0438a79d0  healthy  11522fb53da0f6ef  0.005792  healthy"
      ]
     },
     "execution_count": 40,
     "metadata": {},
     "output_type": "execute_result"
    }
   ],
   "source": [
    "labels, probs, preds = predict(model_ft, dataloaders[\"valid\"])\n",
    "preds_df = pd.DataFrame({\n",
    "    \"id\": dataloader.dataset.labels.id,\n",
    "    \"label\": labels,\n",
    "    \"group\": dataloader.dataset.labels.group,\n",
    "    \"prob\": probs,\n",
    "    \"pred\": preds,\n",
    "})\n",
    "preds_df.head()"
   ]
  },
  {
   "cell_type": "code",
   "execution_count": 42,
   "metadata": {
    "scrolled": true
   },
   "outputs": [
    {
     "data": {
      "text/html": [
       "<div>\n",
       "<style scoped>\n",
       "    .dataframe tbody tr th:only-of-type {\n",
       "        vertical-align: middle;\n",
       "    }\n",
       "\n",
       "    .dataframe tbody tr th {\n",
       "        vertical-align: top;\n",
       "    }\n",
       "\n",
       "    .dataframe thead th {\n",
       "        text-align: right;\n",
       "    }\n",
       "</style>\n",
       "<table border=\"1\" class=\"dataframe\">\n",
       "  <thead>\n",
       "    <tr style=\"text-align: right;\">\n",
       "      <th></th>\n",
       "      <th>id</th>\n",
       "      <th>label</th>\n",
       "      <th>group</th>\n",
       "      <th>prob</th>\n",
       "      <th>pred</th>\n",
       "    </tr>\n",
       "  </thead>\n",
       "  <tbody>\n",
       "    <tr>\n",
       "      <th>0</th>\n",
       "      <td>11c8e7e766868356</td>\n",
       "      <td>healthy</td>\n",
       "      <td>11522fb53da0f6ef</td>\n",
       "      <td>0.000641</td>\n",
       "      <td>healthy</td>\n",
       "    </tr>\n",
       "    <tr>\n",
       "      <th>1</th>\n",
       "      <td>6aaac3b6b9c2a620</td>\n",
       "      <td>healthy</td>\n",
       "      <td>11522fb53da0f6ef</td>\n",
       "      <td>0.026469</td>\n",
       "      <td>healthy</td>\n",
       "    </tr>\n",
       "    <tr>\n",
       "      <th>2</th>\n",
       "      <td>9229dfaf21443f5d</td>\n",
       "      <td>healthy</td>\n",
       "      <td>11522fb53da0f6ef</td>\n",
       "      <td>0.002288</td>\n",
       "      <td>healthy</td>\n",
       "    </tr>\n",
       "    <tr>\n",
       "      <th>3</th>\n",
       "      <td>9b4404e5e4d38535</td>\n",
       "      <td>healthy</td>\n",
       "      <td>11522fb53da0f6ef</td>\n",
       "      <td>0.003044</td>\n",
       "      <td>healthy</td>\n",
       "    </tr>\n",
       "    <tr>\n",
       "      <th>4</th>\n",
       "      <td>f19f9ec0438a79d0</td>\n",
       "      <td>healthy</td>\n",
       "      <td>11522fb53da0f6ef</td>\n",
       "      <td>0.005792</td>\n",
       "      <td>healthy</td>\n",
       "    </tr>\n",
       "  </tbody>\n",
       "</table>\n",
       "</div>"
      ],
      "text/plain": [
       "                 id    label             group      prob     pred\n",
       "0  11c8e7e766868356  healthy  11522fb53da0f6ef  0.000641  healthy\n",
       "1  6aaac3b6b9c2a620  healthy  11522fb53da0f6ef  0.026469  healthy\n",
       "2  9229dfaf21443f5d  healthy  11522fb53da0f6ef  0.002288  healthy\n",
       "3  9b4404e5e4d38535  healthy  11522fb53da0f6ef  0.003044  healthy\n",
       "4  f19f9ec0438a79d0  healthy  11522fb53da0f6ef  0.005792  healthy"
      ]
     },
     "execution_count": 42,
     "metadata": {},
     "output_type": "execute_result"
    }
   ],
   "source": [
    "dataloader = torch.utils.data.DataLoader(image_datasets[\"train\"], batch_size=4, shuffle=False, num_workers=4)\n",
    "labels, probs, preds = predict(model_ft, dataloader)\n",
    "train_preds_df = pd.DataFrame({\n",
    "    \"id\": dataset.labels.id,\n",
    "    \"label\": labels,\n",
    "    \"group\": dataset.labels.group,\n",
    "    \"prob\": probs,\n",
    "    \"pred\": preds,\n",
    "})\n",
    "preds_df.head()"
   ]
  },
  {
   "cell_type": "code",
   "execution_count": 47,
   "metadata": {},
   "outputs": [
    {
     "data": {
      "text/plain": [
       "(216,)"
      ]
     },
     "execution_count": 47,
     "metadata": {},
     "output_type": "execute_result"
    }
   ],
   "source": [
    "test_dataset = CovidDataset(data_path / \"test\", data_transforms[\"valid\"])\n",
    "test_dataloader = torch.utils.data.DataLoader(test_dataset, batch_size=4, shuffle=False, num_workers=4)\n",
    "labels, probs, preds = predict(model_ft, test_dataloader)\n",
    "pred_label_i = (probs > 0.5).astype(int)\n",
    "pred_label_i.shape"
   ]
  },
  {
   "cell_type": "code",
   "execution_count": 49,
   "metadata": {},
   "outputs": [
    {
     "data": {
      "text/html": [
       "<div>\n",
       "<style scoped>\n",
       "    .dataframe tbody tr th:only-of-type {\n",
       "        vertical-align: middle;\n",
       "    }\n",
       "\n",
       "    .dataframe tbody tr th {\n",
       "        vertical-align: top;\n",
       "    }\n",
       "\n",
       "    .dataframe thead th {\n",
       "        text-align: right;\n",
       "    }\n",
       "</style>\n",
       "<table border=\"1\" class=\"dataframe\">\n",
       "  <thead>\n",
       "    <tr style=\"text-align: right;\">\n",
       "      <th></th>\n",
       "      <th>id</th>\n",
       "      <th>path</th>\n",
       "      <th>label_i</th>\n",
       "    </tr>\n",
       "  </thead>\n",
       "  <tbody>\n",
       "    <tr>\n",
       "      <th>0</th>\n",
       "      <td>2de8b6da3708d931</td>\n",
       "      <td>images/2de8b6da3708d931.png</td>\n",
       "      <td>1</td>\n",
       "    </tr>\n",
       "    <tr>\n",
       "      <th>1</th>\n",
       "      <td>b23d64bb221c0d1f</td>\n",
       "      <td>images/b23d64bb221c0d1f.png</td>\n",
       "      <td>1</td>\n",
       "    </tr>\n",
       "    <tr>\n",
       "      <th>2</th>\n",
       "      <td>200ac2b3105d8eb7</td>\n",
       "      <td>images/200ac2b3105d8eb7.png</td>\n",
       "      <td>1</td>\n",
       "    </tr>\n",
       "    <tr>\n",
       "      <th>3</th>\n",
       "      <td>8f41b2d16e8b553e</td>\n",
       "      <td>images/8f41b2d16e8b553e.png</td>\n",
       "      <td>1</td>\n",
       "    </tr>\n",
       "    <tr>\n",
       "      <th>4</th>\n",
       "      <td>91912bd0824a32e4</td>\n",
       "      <td>images/91912bd0824a32e4.png</td>\n",
       "      <td>1</td>\n",
       "    </tr>\n",
       "    <tr>\n",
       "      <th>...</th>\n",
       "      <td>...</td>\n",
       "      <td>...</td>\n",
       "      <td>...</td>\n",
       "    </tr>\n",
       "    <tr>\n",
       "      <th>211</th>\n",
       "      <td>f6a269ea8130c0e9</td>\n",
       "      <td>images/f6a269ea8130c0e9.png</td>\n",
       "      <td>0</td>\n",
       "    </tr>\n",
       "    <tr>\n",
       "      <th>212</th>\n",
       "      <td>df222f812088787b</td>\n",
       "      <td>images/df222f812088787b.png</td>\n",
       "      <td>0</td>\n",
       "    </tr>\n",
       "    <tr>\n",
       "      <th>213</th>\n",
       "      <td>d000d798642e825c</td>\n",
       "      <td>images/d000d798642e825c.png</td>\n",
       "      <td>0</td>\n",
       "    </tr>\n",
       "    <tr>\n",
       "      <th>214</th>\n",
       "      <td>fd6c3ce27aeed21a</td>\n",
       "      <td>images/fd6c3ce27aeed21a.png</td>\n",
       "      <td>0</td>\n",
       "    </tr>\n",
       "    <tr>\n",
       "      <th>215</th>\n",
       "      <td>e824834c89fb563f</td>\n",
       "      <td>images/e824834c89fb563f.png</td>\n",
       "      <td>0</td>\n",
       "    </tr>\n",
       "  </tbody>\n",
       "</table>\n",
       "<p>216 rows × 3 columns</p>\n",
       "</div>"
      ],
      "text/plain": [
       "                   id                         path  label_i\n",
       "0    2de8b6da3708d931  images/2de8b6da3708d931.png        1\n",
       "1    b23d64bb221c0d1f  images/b23d64bb221c0d1f.png        1\n",
       "2    200ac2b3105d8eb7  images/200ac2b3105d8eb7.png        1\n",
       "3    8f41b2d16e8b553e  images/8f41b2d16e8b553e.png        1\n",
       "4    91912bd0824a32e4  images/91912bd0824a32e4.png        1\n",
       "..                ...                          ...      ...\n",
       "211  f6a269ea8130c0e9  images/f6a269ea8130c0e9.png        0\n",
       "212  df222f812088787b  images/df222f812088787b.png        0\n",
       "213  d000d798642e825c  images/d000d798642e825c.png        0\n",
       "214  fd6c3ce27aeed21a  images/fd6c3ce27aeed21a.png        0\n",
       "215  e824834c89fb563f  images/e824834c89fb563f.png        0\n",
       "\n",
       "[216 rows x 3 columns]"
      ]
     },
     "execution_count": 49,
     "metadata": {},
     "output_type": "execute_result"
    }
   ],
   "source": [
    "sumisssion_df = test_dataset.labels.copy()\n",
    "sumisssion_df[\"label_i\"] = pred_label_i\n",
    "sumisssion_df"
   ]
  },
  {
   "cell_type": "code",
   "execution_count": 50,
   "metadata": {},
   "outputs": [],
   "source": [
    "sumisssion_df.to_csv(data_path / \"submission.tsv\", sep=\"\\t\", index=False)"
   ]
  },
  {
   "cell_type": "code",
   "execution_count": 55,
   "metadata": {},
   "outputs": [],
   "source": [
    "torch.save(model_ft.state_dict(), pathlib.Path(\"example_model/model.pt\").open(\"wb\"))"
   ]
  }
 ],
 "metadata": {
  "kernelspec": {
   "display_name": "Python 3",
   "language": "python",
   "name": "python3"
  },
  "language_info": {
   "codemirror_mode": {
    "name": "ipython",
    "version": 3
   },
   "file_extension": ".py",
   "mimetype": "text/x-python",
   "name": "python",
   "nbconvert_exporter": "python",
   "pygments_lexer": "ipython3",
   "version": "3.8.0"
  }
 },
 "nbformat": 4,
 "nbformat_minor": 4
}
